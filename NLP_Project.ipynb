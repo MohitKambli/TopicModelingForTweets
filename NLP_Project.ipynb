{
  "cells": [
    {
      "cell_type": "code",
      "execution_count": 59,
      "id": "89866ab1-54c7-40dc-8198-5aebf5f18762",
      "metadata": {
        "colab": {
          "base_uri": "https://localhost:8080/"
        },
        "id": "89866ab1-54c7-40dc-8198-5aebf5f18762",
        "outputId": "476052ad-dd5e-4cc6-dadf-a237498c9c49"
      },
      "outputs": [
        {
          "output_type": "stream",
          "name": "stdout",
          "text": [
            "Looking in indexes: https://pypi.org/simple, https://us-python.pkg.dev/colab-wheels/public/simple/\n",
            "Requirement already satisfied: langdetect in /usr/local/lib/python3.10/dist-packages (1.0.9)\n",
            "Requirement already satisfied: six in /usr/local/lib/python3.10/dist-packages (from langdetect) (1.16.0)\n",
            "Looking in indexes: https://pypi.org/simple, https://us-python.pkg.dev/colab-wheels/public/simple/\n",
            "Requirement already satisfied: emoji==1.7 in /usr/local/lib/python3.10/dist-packages (1.7.0)\n",
            "2023-05-03 06:37:43.118995: W tensorflow/compiler/tf2tensorrt/utils/py_utils.cc:38] TF-TRT Warning: Could not find TensorRT\n",
            "Looking in indexes: https://pypi.org/simple, https://us-python.pkg.dev/colab-wheels/public/simple/\n",
            "Collecting en-core-web-lg==3.5.0\n",
            "  Downloading https://github.com/explosion/spacy-models/releases/download/en_core_web_lg-3.5.0/en_core_web_lg-3.5.0-py3-none-any.whl (587.7 MB)\n",
            "\u001b[2K     \u001b[90m━━━━━━━━━━━━━━━━━━━━━━━━━━━━━━━━━━━━━━━\u001b[0m \u001b[32m587.7/587.7 MB\u001b[0m \u001b[31m2.1 MB/s\u001b[0m eta \u001b[36m0:00:00\u001b[0m\n",
            "\u001b[?25hRequirement already satisfied: spacy<3.6.0,>=3.5.0 in /usr/local/lib/python3.10/dist-packages (from en-core-web-lg==3.5.0) (3.5.2)\n",
            "Requirement already satisfied: typer<0.8.0,>=0.3.0 in /usr/local/lib/python3.10/dist-packages (from spacy<3.6.0,>=3.5.0->en-core-web-lg==3.5.0) (0.7.0)\n",
            "Requirement already satisfied: spacy-loggers<2.0.0,>=1.0.0 in /usr/local/lib/python3.10/dist-packages (from spacy<3.6.0,>=3.5.0->en-core-web-lg==3.5.0) (1.0.4)\n",
            "Requirement already satisfied: murmurhash<1.1.0,>=0.28.0 in /usr/local/lib/python3.10/dist-packages (from spacy<3.6.0,>=3.5.0->en-core-web-lg==3.5.0) (1.0.9)\n",
            "Requirement already satisfied: numpy>=1.15.0 in /usr/local/lib/python3.10/dist-packages (from spacy<3.6.0,>=3.5.0->en-core-web-lg==3.5.0) (1.22.4)\n",
            "Requirement already satisfied: preshed<3.1.0,>=3.0.2 in /usr/local/lib/python3.10/dist-packages (from spacy<3.6.0,>=3.5.0->en-core-web-lg==3.5.0) (3.0.8)\n",
            "Requirement already satisfied: cymem<2.1.0,>=2.0.2 in /usr/local/lib/python3.10/dist-packages (from spacy<3.6.0,>=3.5.0->en-core-web-lg==3.5.0) (2.0.7)\n",
            "Requirement already satisfied: smart-open<7.0.0,>=5.2.1 in /usr/local/lib/python3.10/dist-packages (from spacy<3.6.0,>=3.5.0->en-core-web-lg==3.5.0) (6.3.0)\n",
            "Requirement already satisfied: setuptools in /usr/local/lib/python3.10/dist-packages (from spacy<3.6.0,>=3.5.0->en-core-web-lg==3.5.0) (67.7.2)\n",
            "Requirement already satisfied: tqdm<5.0.0,>=4.38.0 in /usr/local/lib/python3.10/dist-packages (from spacy<3.6.0,>=3.5.0->en-core-web-lg==3.5.0) (4.65.0)\n",
            "Requirement already satisfied: pathy>=0.10.0 in /usr/local/lib/python3.10/dist-packages (from spacy<3.6.0,>=3.5.0->en-core-web-lg==3.5.0) (0.10.1)\n",
            "Requirement already satisfied: srsly<3.0.0,>=2.4.3 in /usr/local/lib/python3.10/dist-packages (from spacy<3.6.0,>=3.5.0->en-core-web-lg==3.5.0) (2.4.6)\n",
            "Requirement already satisfied: requests<3.0.0,>=2.13.0 in /usr/local/lib/python3.10/dist-packages (from spacy<3.6.0,>=3.5.0->en-core-web-lg==3.5.0) (2.27.1)\n",
            "Requirement already satisfied: catalogue<2.1.0,>=2.0.6 in /usr/local/lib/python3.10/dist-packages (from spacy<3.6.0,>=3.5.0->en-core-web-lg==3.5.0) (2.0.8)\n",
            "Requirement already satisfied: jinja2 in /usr/local/lib/python3.10/dist-packages (from spacy<3.6.0,>=3.5.0->en-core-web-lg==3.5.0) (3.1.2)\n",
            "Requirement already satisfied: packaging>=20.0 in /usr/local/lib/python3.10/dist-packages (from spacy<3.6.0,>=3.5.0->en-core-web-lg==3.5.0) (23.1)\n",
            "Requirement already satisfied: pydantic!=1.8,!=1.8.1,<1.11.0,>=1.7.4 in /usr/local/lib/python3.10/dist-packages (from spacy<3.6.0,>=3.5.0->en-core-web-lg==3.5.0) (1.10.7)\n",
            "Requirement already satisfied: langcodes<4.0.0,>=3.2.0 in /usr/local/lib/python3.10/dist-packages (from spacy<3.6.0,>=3.5.0->en-core-web-lg==3.5.0) (3.3.0)\n",
            "Requirement already satisfied: spacy-legacy<3.1.0,>=3.0.11 in /usr/local/lib/python3.10/dist-packages (from spacy<3.6.0,>=3.5.0->en-core-web-lg==3.5.0) (3.0.12)\n",
            "Requirement already satisfied: thinc<8.2.0,>=8.1.8 in /usr/local/lib/python3.10/dist-packages (from spacy<3.6.0,>=3.5.0->en-core-web-lg==3.5.0) (8.1.9)\n",
            "Requirement already satisfied: wasabi<1.2.0,>=0.9.1 in /usr/local/lib/python3.10/dist-packages (from spacy<3.6.0,>=3.5.0->en-core-web-lg==3.5.0) (1.1.1)\n",
            "Requirement already satisfied: typing-extensions>=4.2.0 in /usr/local/lib/python3.10/dist-packages (from pydantic!=1.8,!=1.8.1,<1.11.0,>=1.7.4->spacy<3.6.0,>=3.5.0->en-core-web-lg==3.5.0) (4.5.0)\n",
            "Requirement already satisfied: idna<4,>=2.5 in /usr/local/lib/python3.10/dist-packages (from requests<3.0.0,>=2.13.0->spacy<3.6.0,>=3.5.0->en-core-web-lg==3.5.0) (3.4)\n",
            "Requirement already satisfied: charset-normalizer~=2.0.0 in /usr/local/lib/python3.10/dist-packages (from requests<3.0.0,>=2.13.0->spacy<3.6.0,>=3.5.0->en-core-web-lg==3.5.0) (2.0.12)\n",
            "Requirement already satisfied: urllib3<1.27,>=1.21.1 in /usr/local/lib/python3.10/dist-packages (from requests<3.0.0,>=2.13.0->spacy<3.6.0,>=3.5.0->en-core-web-lg==3.5.0) (1.26.15)\n",
            "Requirement already satisfied: certifi>=2017.4.17 in /usr/local/lib/python3.10/dist-packages (from requests<3.0.0,>=2.13.0->spacy<3.6.0,>=3.5.0->en-core-web-lg==3.5.0) (2022.12.7)\n",
            "Requirement already satisfied: blis<0.8.0,>=0.7.8 in /usr/local/lib/python3.10/dist-packages (from thinc<8.2.0,>=8.1.8->spacy<3.6.0,>=3.5.0->en-core-web-lg==3.5.0) (0.7.9)\n",
            "Requirement already satisfied: confection<1.0.0,>=0.0.1 in /usr/local/lib/python3.10/dist-packages (from thinc<8.2.0,>=8.1.8->spacy<3.6.0,>=3.5.0->en-core-web-lg==3.5.0) (0.0.4)\n",
            "Requirement already satisfied: click<9.0.0,>=7.1.1 in /usr/local/lib/python3.10/dist-packages (from typer<0.8.0,>=0.3.0->spacy<3.6.0,>=3.5.0->en-core-web-lg==3.5.0) (8.1.3)\n",
            "Requirement already satisfied: MarkupSafe>=2.0 in /usr/local/lib/python3.10/dist-packages (from jinja2->spacy<3.6.0,>=3.5.0->en-core-web-lg==3.5.0) (2.1.2)\n",
            "\u001b[38;5;2m✔ Download and installation successful\u001b[0m\n",
            "You can now load the package via spacy.load('en_core_web_lg')\n"
          ]
        }
      ],
      "source": [
        "!pip install langdetect\n",
        "!pip install emoji==1.7\n",
        "!python -m spacy download en_core_web_lg\n",
        "import os\n",
        "import re\n",
        "import pandas as pd\n",
        "import glob\n",
        "from langdetect import detect\n",
        "import csv\n",
        "import sys\n",
        "import emoji\n",
        "import spacy\n",
        "import regex\n",
        "import re\n",
        "from google.colab import drive\n",
        "import string\n",
        "from collections import Counter\n",
        "import gensim\n",
        "from gensim import corpora, models\n",
        "# Calculate coherence score\n",
        "from gensim.models.coherencemodel import CoherenceModel\n",
        "import numpy as np\n",
        "from spacy.tokenizer import Tokenizer\n",
        "from gensim.corpora import Dictionary\n",
        "from gensim.models.ldamulticore import LdaMulticore\n",
        "from gensim.models.coherencemodel import CoherenceModel\n",
        "from gensim.parsing.preprocessing import STOPWORDS as SW\n",
        "from sklearn.decomposition import LatentDirichletAllocation, TruncatedSVD\n",
        "from sklearn.feature_extraction.text import CountVectorizer, TfidfVectorizer\n",
        "from sklearn.model_selection import GridSearchCV\n",
        "from pprint import pprint\n",
        "from wordcloud import STOPWORDS\n",
        "stopwords = set(STOPWORDS)"
      ]
    },
    {
      "cell_type": "markdown",
      "source": [
        "The load_dataset function reads one or more CSV files located at the specified path, concatenates them into a single Pandas DataFrame, and adds a new column named \"COMPANY\" with the name of the company whose tweets are contained in each CSV file. The resulting concatenated DataFrame has five columns: 'USER', 'TWEET', 'TIMESTAMP', 'LINK', and 'COMPANY'."
      ],
      "metadata": {
        "id": "32KaeV1uRCu4"
      },
      "id": "32KaeV1uRCu4"
    },
    {
      "cell_type": "code",
      "execution_count": 60,
      "id": "15b42afa-70e3-4ba6-84cc-34906bd8200f",
      "metadata": {
        "id": "15b42afa-70e3-4ba6-84cc-34906bd8200f"
      },
      "outputs": [],
      "source": [
        "def load_dataset(path):\n",
        "    csv_files = glob.glob(os.path.join(path, \"*.csv\"))\n",
        "    df_list = []\n",
        "    for csv_file in csv_files:\n",
        "        df = pd.read_csv(csv_file, header=None)\n",
        "        df['COMPANY'] = csv_file.split(\"/\")[-1].split('layoffs_scraped_tweets.csv')[0].capitalize()\n",
        "        df_list.append(df)\n",
        "    main_df = pd.concat(df_list, axis=0)\n",
        "    main_df.columns = ['USER', 'TWEET', 'TIMESTAMP', 'LINK', 'COMPANY']\n",
        "    return main_df"
      ]
    },
    {
      "cell_type": "code",
      "execution_count": 61,
      "id": "3f0cf82b-7b05-4930-9869-489f8a09817c",
      "metadata": {
        "colab": {
          "base_uri": "https://localhost:8080/"
        },
        "id": "3f0cf82b-7b05-4930-9869-489f8a09817c",
        "outputId": "fb238982-7dfc-40f9-a855-c4f45090b538"
      },
      "outputs": [
        {
          "output_type": "stream",
          "name": "stdout",
          "text": [
            "Mounted at /drive\n"
          ]
        }
      ],
      "source": [
        "drive.mount('/drive', force_remount=True)\n",
        "path = '/drive/My Drive/Colab Notebooks/IST 664/Project_Data/Tweets_Data/'\n",
        "df = load_dataset(path)"
      ]
    },
    {
      "cell_type": "markdown",
      "source": [
        "The code defines a function detect_language that takes a text argument and uses the detect function from the langdetect library to detect the language of the text. If the language cannot be detected, the function returns \"unknown\".\n",
        "\n",
        "The detect_language function is applied to the TWEET column of a Pandas DataFrame df, and the resulting language detection is stored in a new column named LANGUAGE.\n",
        "\n",
        "Finally, the code filters out all rows where the LANGUAGE column is not 'en' (English) by creating a new DataFrame that contains only rows where the LANGUAGE column is 'en' and dropping the LANGUAGE column. The resulting DataFrame contains only tweets in English."
      ],
      "metadata": {
        "id": "Y8e__v9NRe9d"
      },
      "id": "Y8e__v9NRe9d"
    },
    {
      "cell_type": "code",
      "execution_count": 62,
      "id": "7c5fc952-15ab-420f-b6b4-b76272df9d56",
      "metadata": {
        "id": "7c5fc952-15ab-420f-b6b4-b76272df9d56"
      },
      "outputs": [],
      "source": [
        "# function to detect the language of a sentence\n",
        "def detect_language(text):\n",
        "    try:\n",
        "        lang = detect(text)\n",
        "    except:\n",
        "        lang = 'unknown'\n",
        "    return lang\n",
        "\n",
        "# apply the detect_language function to the TEXT column and create a new column\n",
        "df['LANGUAGE'] = df['TWEET'].apply(detect_language)\n",
        "\n",
        "# remove rows where the LANGUAGE column is not 'en' (English)\n",
        "df = df[df['LANGUAGE'] == 'en'].drop(columns=['LANGUAGE'])"
      ]
    },
    {
      "cell_type": "code",
      "execution_count": 63,
      "id": "613592e8-80a0-4061-a7cc-6a17363ae5c8",
      "metadata": {
        "id": "613592e8-80a0-4061-a7cc-6a17363ae5c8"
      },
      "outputs": [],
      "source": [
        "df.to_csv('final_data.csv', index=False)"
      ]
    },
    {
      "cell_type": "code",
      "execution_count": 64,
      "id": "27ac10a5-70fb-47ef-869a-996b37795409",
      "metadata": {
        "id": "27ac10a5-70fb-47ef-869a-996b37795409"
      },
      "outputs": [],
      "source": [
        "df = pd.read_csv('final_data.csv')"
      ]
    },
    {
      "cell_type": "code",
      "execution_count": 65,
      "id": "160d0668-5604-4913-a390-c4aadeff759a",
      "metadata": {
        "colab": {
          "base_uri": "https://localhost:8080/",
          "height": 206
        },
        "id": "160d0668-5604-4913-a390-c4aadeff759a",
        "outputId": "1f9f8a6a-1b63-4d4c-e9cd-57bf3a337fd3"
      },
      "outputs": [
        {
          "output_type": "execute_result",
          "data": {
            "text/plain": [
              "              USER                                              TWEET  \\\n",
              "0     franchisefun  What If Franchise Business Ownership Is Not Yo...   \n",
              "1     franchisefun  STOP! You Want To Start A Business With No Pri...   \n",
              "2     franchisefun  We Don't Know What We Don't Know!\\n\\nHow Can Y...   \n",
              "3    JaanoJunction  From Google to Amazon, tech giants offer 1-yea...   \n",
              "4  PrateekGaurav23  #layoffs2023 #amazonlayoffs #F1Visa\\n\\nMy rece...   \n",
              "\n",
              "                   TIMESTAMP  \\\n",
              "0  2023-04-13 12:40:17+00:00   \n",
              "1  2023-04-12 14:38:27+00:00   \n",
              "2  2023-04-11 14:23:11+00:00   \n",
              "3  2023-04-11 09:23:58+00:00   \n",
              "4  2023-04-10 19:55:34+00:00   \n",
              "\n",
              "                                                LINK COMPANY  \n",
              "0  https://twitter.com/franchisefun/status/164649...  Amazon  \n",
              "1  https://twitter.com/franchisefun/status/164616...  Amazon  \n",
              "2  https://twitter.com/franchisefun/status/164579...  Amazon  \n",
              "3  https://twitter.com/JaanoJunction/status/16457...  Amazon  \n",
              "4  https://twitter.com/PrateekGaurav23/status/164...  Amazon  "
            ],
            "text/html": [
              "\n",
              "  <div id=\"df-76c556fa-7e5d-4be3-9e38-1a5ab1ed822e\">\n",
              "    <div class=\"colab-df-container\">\n",
              "      <div>\n",
              "<style scoped>\n",
              "    .dataframe tbody tr th:only-of-type {\n",
              "        vertical-align: middle;\n",
              "    }\n",
              "\n",
              "    .dataframe tbody tr th {\n",
              "        vertical-align: top;\n",
              "    }\n",
              "\n",
              "    .dataframe thead th {\n",
              "        text-align: right;\n",
              "    }\n",
              "</style>\n",
              "<table border=\"1\" class=\"dataframe\">\n",
              "  <thead>\n",
              "    <tr style=\"text-align: right;\">\n",
              "      <th></th>\n",
              "      <th>USER</th>\n",
              "      <th>TWEET</th>\n",
              "      <th>TIMESTAMP</th>\n",
              "      <th>LINK</th>\n",
              "      <th>COMPANY</th>\n",
              "    </tr>\n",
              "  </thead>\n",
              "  <tbody>\n",
              "    <tr>\n",
              "      <th>0</th>\n",
              "      <td>franchisefun</td>\n",
              "      <td>What If Franchise Business Ownership Is Not Yo...</td>\n",
              "      <td>2023-04-13 12:40:17+00:00</td>\n",
              "      <td>https://twitter.com/franchisefun/status/164649...</td>\n",
              "      <td>Amazon</td>\n",
              "    </tr>\n",
              "    <tr>\n",
              "      <th>1</th>\n",
              "      <td>franchisefun</td>\n",
              "      <td>STOP! You Want To Start A Business With No Pri...</td>\n",
              "      <td>2023-04-12 14:38:27+00:00</td>\n",
              "      <td>https://twitter.com/franchisefun/status/164616...</td>\n",
              "      <td>Amazon</td>\n",
              "    </tr>\n",
              "    <tr>\n",
              "      <th>2</th>\n",
              "      <td>franchisefun</td>\n",
              "      <td>We Don't Know What We Don't Know!\\n\\nHow Can Y...</td>\n",
              "      <td>2023-04-11 14:23:11+00:00</td>\n",
              "      <td>https://twitter.com/franchisefun/status/164579...</td>\n",
              "      <td>Amazon</td>\n",
              "    </tr>\n",
              "    <tr>\n",
              "      <th>3</th>\n",
              "      <td>JaanoJunction</td>\n",
              "      <td>From Google to Amazon, tech giants offer 1-yea...</td>\n",
              "      <td>2023-04-11 09:23:58+00:00</td>\n",
              "      <td>https://twitter.com/JaanoJunction/status/16457...</td>\n",
              "      <td>Amazon</td>\n",
              "    </tr>\n",
              "    <tr>\n",
              "      <th>4</th>\n",
              "      <td>PrateekGaurav23</td>\n",
              "      <td>#layoffs2023 #amazonlayoffs #F1Visa\\n\\nMy rece...</td>\n",
              "      <td>2023-04-10 19:55:34+00:00</td>\n",
              "      <td>https://twitter.com/PrateekGaurav23/status/164...</td>\n",
              "      <td>Amazon</td>\n",
              "    </tr>\n",
              "  </tbody>\n",
              "</table>\n",
              "</div>\n",
              "      <button class=\"colab-df-convert\" onclick=\"convertToInteractive('df-76c556fa-7e5d-4be3-9e38-1a5ab1ed822e')\"\n",
              "              title=\"Convert this dataframe to an interactive table.\"\n",
              "              style=\"display:none;\">\n",
              "        \n",
              "  <svg xmlns=\"http://www.w3.org/2000/svg\" height=\"24px\"viewBox=\"0 0 24 24\"\n",
              "       width=\"24px\">\n",
              "    <path d=\"M0 0h24v24H0V0z\" fill=\"none\"/>\n",
              "    <path d=\"M18.56 5.44l.94 2.06.94-2.06 2.06-.94-2.06-.94-.94-2.06-.94 2.06-2.06.94zm-11 1L8.5 8.5l.94-2.06 2.06-.94-2.06-.94L8.5 2.5l-.94 2.06-2.06.94zm10 10l.94 2.06.94-2.06 2.06-.94-2.06-.94-.94-2.06-.94 2.06-2.06.94z\"/><path d=\"M17.41 7.96l-1.37-1.37c-.4-.4-.92-.59-1.43-.59-.52 0-1.04.2-1.43.59L10.3 9.45l-7.72 7.72c-.78.78-.78 2.05 0 2.83L4 21.41c.39.39.9.59 1.41.59.51 0 1.02-.2 1.41-.59l7.78-7.78 2.81-2.81c.8-.78.8-2.07 0-2.86zM5.41 20L4 18.59l7.72-7.72 1.47 1.35L5.41 20z\"/>\n",
              "  </svg>\n",
              "      </button>\n",
              "      \n",
              "  <style>\n",
              "    .colab-df-container {\n",
              "      display:flex;\n",
              "      flex-wrap:wrap;\n",
              "      gap: 12px;\n",
              "    }\n",
              "\n",
              "    .colab-df-convert {\n",
              "      background-color: #E8F0FE;\n",
              "      border: none;\n",
              "      border-radius: 50%;\n",
              "      cursor: pointer;\n",
              "      display: none;\n",
              "      fill: #1967D2;\n",
              "      height: 32px;\n",
              "      padding: 0 0 0 0;\n",
              "      width: 32px;\n",
              "    }\n",
              "\n",
              "    .colab-df-convert:hover {\n",
              "      background-color: #E2EBFA;\n",
              "      box-shadow: 0px 1px 2px rgba(60, 64, 67, 0.3), 0px 1px 3px 1px rgba(60, 64, 67, 0.15);\n",
              "      fill: #174EA6;\n",
              "    }\n",
              "\n",
              "    [theme=dark] .colab-df-convert {\n",
              "      background-color: #3B4455;\n",
              "      fill: #D2E3FC;\n",
              "    }\n",
              "\n",
              "    [theme=dark] .colab-df-convert:hover {\n",
              "      background-color: #434B5C;\n",
              "      box-shadow: 0px 1px 3px 1px rgba(0, 0, 0, 0.15);\n",
              "      filter: drop-shadow(0px 1px 2px rgba(0, 0, 0, 0.3));\n",
              "      fill: #FFFFFF;\n",
              "    }\n",
              "  </style>\n",
              "\n",
              "      <script>\n",
              "        const buttonEl =\n",
              "          document.querySelector('#df-76c556fa-7e5d-4be3-9e38-1a5ab1ed822e button.colab-df-convert');\n",
              "        buttonEl.style.display =\n",
              "          google.colab.kernel.accessAllowed ? 'block' : 'none';\n",
              "\n",
              "        async function convertToInteractive(key) {\n",
              "          const element = document.querySelector('#df-76c556fa-7e5d-4be3-9e38-1a5ab1ed822e');\n",
              "          const dataTable =\n",
              "            await google.colab.kernel.invokeFunction('convertToInteractive',\n",
              "                                                     [key], {});\n",
              "          if (!dataTable) return;\n",
              "\n",
              "          const docLinkHtml = 'Like what you see? Visit the ' +\n",
              "            '<a target=\"_blank\" href=https://colab.research.google.com/notebooks/data_table.ipynb>data table notebook</a>'\n",
              "            + ' to learn more about interactive tables.';\n",
              "          element.innerHTML = '';\n",
              "          dataTable['output_type'] = 'display_data';\n",
              "          await google.colab.output.renderOutput(dataTable, element);\n",
              "          const docLink = document.createElement('div');\n",
              "          docLink.innerHTML = docLinkHtml;\n",
              "          element.appendChild(docLink);\n",
              "        }\n",
              "      </script>\n",
              "    </div>\n",
              "  </div>\n",
              "  "
            ]
          },
          "metadata": {},
          "execution_count": 65
        }
      ],
      "source": [
        "df.head()"
      ]
    },
    {
      "cell_type": "markdown",
      "source": [
        "The code defines two functions, replace_emojis and data_cleaning.\n",
        "\n",
        "The replace_emojis function takes a text argument and uses the emoji library to replace emojis in the text with their descriptions. It splits the text into individual words and replaces any emojis found in the words with their corresponding descriptions. The resulting text is returned.\n",
        "\n",
        "The data_cleaning function takes a Pandas DataFrame main_df as an argument and performs several data cleaning tasks. It drops duplicates from the DataFrame, removes mentions and links from the TWEET column using regular expressions, extracts words with hashtags and places them in a new HASHTAGS column, and removes words with hashtags from the TWEET column. Finally, it applies the replace_emojis function to the TWEET column to replace emojis with their descriptions. The resulting cleaned DataFrame is returned."
      ],
      "metadata": {
        "id": "VrgLKI_vRoqb"
      },
      "id": "VrgLKI_vRoqb"
    },
    {
      "cell_type": "code",
      "execution_count": 66,
      "id": "8f76b1e5-01a5-4afd-a770-eef88be8916d",
      "metadata": {
        "id": "8f76b1e5-01a5-4afd-a770-eef88be8916d"
      },
      "outputs": [],
      "source": [
        "# Define a function to replace emojis with their descriptions\n",
        "def replace_emojis(text):\n",
        "    for emoji_char in emoji.emojize(text).split():\n",
        "        description = emoji.demojize(emoji_char).replace(\":\",\"\")\n",
        "        text = text.replace(emoji_char, description)\n",
        "    return text\n",
        "\n",
        "def data_cleaning(main_df):\n",
        "    \n",
        "    \n",
        "    # dropping duplicates from the dataframe\n",
        "    main_df.drop_duplicates(inplace = True) \n",
        "\n",
        "    # define the regular expression pattern to match @ links\n",
        "    at_pattern = re.compile(r'@\\S+')\n",
        "    # remove http links from the TWEET column\n",
        "    \n",
        "    main_df['TWEET'].replace(at_pattern, '', regex=True, inplace = True)\n",
        "\n",
        "    # define the regular expression pattern to match http links\n",
        "    http_pattern = re.compile(r'http\\S+')\n",
        "    # remove http links from the TWEET column\n",
        "    main_df['TWEET'].replace(http_pattern, '', regex=True, inplace = True)\n",
        "\n",
        "    # define the regular expression pattern to match words with hashtags\n",
        "    hashtag_word_pattern = re.compile(r'(\\#\\w+)')\n",
        "    # extract words with hashtags from the TWEET column and place them in a new column\n",
        "    main_df['HASHTAGS'] = main_df['TWEET'].str.extractall(hashtag_word_pattern)[0].groupby(level=0).apply(list)\n",
        "\n",
        "    # remove words with hashtags from the TWEET column\n",
        "    main_df['TWEET'].replace(hashtag_word_pattern, '', regex=True, inplace = True)\n",
        "\n",
        "    # Replace emojis with their descriptions\n",
        "    main_df['TWEET'] = main_df['TWEET'].apply(lambda x: \" \".join(replace_emojis(sentence) for sentence in x.split()))\n",
        "    \n",
        "    return main_df\n"
      ]
    },
    {
      "cell_type": "code",
      "execution_count": 67,
      "id": "da7bac09-4b71-43a0-899a-8ae111d4a26b",
      "metadata": {
        "colab": {
          "base_uri": "https://localhost:8080/"
        },
        "id": "da7bac09-4b71-43a0-899a-8ae111d4a26b",
        "outputId": "4de3a3c6-8dca-4cd9-f2d4-1fd0f5db1f90"
      },
      "outputs": [
        {
          "output_type": "execute_result",
          "data": {
            "text/plain": [
              "(76147, 6)"
            ]
          },
          "metadata": {},
          "execution_count": 67
        }
      ],
      "source": [
        "df = data_cleaning(df)\n",
        "df.shape"
      ]
    },
    {
      "cell_type": "code",
      "execution_count": 68,
      "id": "84878721-5379-4a9e-9ea3-c0315d977218",
      "metadata": {
        "colab": {
          "base_uri": "https://localhost:8080/"
        },
        "id": "84878721-5379-4a9e-9ea3-c0315d977218",
        "outputId": "b33ab57a-871e-492d-9f17-35cfb1646ce1"
      },
      "outputs": [
        {
          "output_type": "execute_result",
          "data": {
            "text/plain": [
              "(76147, 6)"
            ]
          },
          "metadata": {},
          "execution_count": 68
        }
      ],
      "source": [
        "df.dropna(subset=['TWEET'], inplace=True)\n",
        "df.shape"
      ]
    },
    {
      "cell_type": "code",
      "execution_count": 69,
      "id": "bcc82de5-49fb-408e-88ae-34a10c87b407",
      "metadata": {
        "id": "bcc82de5-49fb-408e-88ae-34a10c87b407"
      },
      "outputs": [],
      "source": [
        "df.to_csv('cleaned_data.csv', index=False)"
      ]
    },
    {
      "cell_type": "code",
      "execution_count": 70,
      "id": "d5968e90-3d5d-4214-8397-7716b1532020",
      "metadata": {
        "id": "d5968e90-3d5d-4214-8397-7716b1532020"
      },
      "outputs": [],
      "source": [
        "df = pd.read_csv('cleaned_data.csv')"
      ]
    },
    {
      "cell_type": "markdown",
      "source": [
        "The code defines a function preprocess_data that performs text preprocessing tasks on a Pandas DataFrame df. The function takes several arguments:\n",
        "\n",
        "remove_stop is a boolean flag that determines whether to remove stop words from the text.\n",
        "lemmetize is a boolean flag that determines whether to perform lemmatization on the text.\n",
        "input_col_name is the name of the input column containing the text to be preprocessed.\n",
        "output_col_name is the name of the output column to store the preprocessed text.\n",
        "The function first initializes a tokenizer from the nltk library that is specifically designed for tweets. It applies this tokenizer to the text in the input column, converts the resulting tokens to lowercase, and stores the output in the output column.\n",
        "\n",
        "If remove_stop is set to True, the function removes stop words from the text using the stopwords corpus from nltk.\n",
        "\n",
        "The function then filters out any tokens that are less than two characters long or contain non-alphanumeric characters.\n",
        "\n",
        "Finally, if lemmetize is set to True, the function performs lemmatization on the text. Otherwise, it skips this step.\n",
        "\n",
        "The resulting preprocessed text is stored in the output column as a list of unique tokens."
      ],
      "metadata": {
        "id": "N5yAw94FR2SL"
      },
      "id": "N5yAw94FR2SL"
    },
    {
      "cell_type": "code",
      "execution_count": 71,
      "id": "44a6d810-0d0a-4d3b-a935-4aaa50abe3e1",
      "metadata": {
        "id": "44a6d810-0d0a-4d3b-a935-4aaa50abe3e1"
      },
      "outputs": [],
      "source": [
        "#  Preprocessing\n",
        "import nltk\n",
        "\n",
        "def preprocess_data(df, remove_stop, lemmetize,input_col_name, output_col_name):\n",
        "    \n",
        "    tokenizer = nltk.tokenize.TweetTokenizer(strip_handles=False, reduce_len=True)\n",
        "    df[output_col_name] = df[input_col_name].apply(lambda x: tokenizer.tokenize(x.lower()) if isinstance(x,str) else [])\n",
        "    \n",
        "    if remove_stop:\n",
        "        stop_words = set(nltk.corpus.stopwords.words('english'))\n",
        "        df[output_col_name] = df[output_col_name].apply(lambda x: [w for w in x if w not in stop_words])\n",
        "    \n",
        "    df[output_col_name] = df[output_col_name].apply(lambda tokens: [token for token in tokens if len(token) > 1 and token.isalnum()])\n",
        "    \n",
        "    # code for lemmetization\n",
        "    if lemmetize:\n",
        "        pass\n",
        "    \n",
        "    df[output_col_name] = df[output_col_name].apply(lambda tokens: list(set(tokens)))"
      ]
    },
    {
      "cell_type": "code",
      "execution_count": 72,
      "id": "640baacf-2752-48a9-80ff-f440d164cebb",
      "metadata": {
        "colab": {
          "base_uri": "https://localhost:8080/"
        },
        "id": "640baacf-2752-48a9-80ff-f440d164cebb",
        "outputId": "4f7c55ee-24fe-4551-f998-be06255ad415"
      },
      "outputs": [
        {
          "output_type": "stream",
          "name": "stderr",
          "text": [
            "[nltk_data] Downloading package stopwords to /root/nltk_data...\n",
            "[nltk_data]   Package stopwords is already up-to-date!\n"
          ]
        }
      ],
      "source": [
        "import nltk\n",
        "nltk.download('stopwords')\n",
        "preprocess_data(df,True,True,\"TWEET\",\"preprocessed_TWEETS\")"
      ]
    },
    {
      "cell_type": "code",
      "execution_count": 73,
      "id": "f80ceb76-4f72-45fb-b90d-62e4662e42a9",
      "metadata": {
        "colab": {
          "base_uri": "https://localhost:8080/"
        },
        "id": "f80ceb76-4f72-45fb-b90d-62e4662e42a9",
        "outputId": "55c994a8-493a-4f76-813b-45c44a2de04a"
      },
      "outputs": [
        {
          "output_type": "execute_result",
          "data": {
            "text/plain": [
              "0    [success, rather, business, another, key, conn...\n",
              "1    [stop, prior, experience, mad, business, want,...\n",
              "2    [knowing, without, search, franchise, help, kn...\n",
              "3    [amazon, tech, encourage, voluntarily, resign,...\n",
              "4    [experience, new, layoffs, unexpected, recent,...\n",
              "Name: preprocessed_TWEETS, dtype: object"
            ]
          },
          "metadata": {},
          "execution_count": 73
        }
      ],
      "source": [
        "df[\"preprocessed_TWEETS\"].head()"
      ]
    },
    {
      "cell_type": "markdown",
      "source": [
        "The code defines a dictionary (id2word) for the preprocessed tweets in the DataFrame, using the corpora.Dictionary() function from the Gensim library. It then filters the dictionary to keep only tokens that appear in at least 2 documents and are present in less than 99% of the documents (filter_extremes() method). Finally, the code creates a corpus for the preprocessed tweets using the doc2bow() method from the dictionary, which converts the preprocessed tweet into a bag-of-words representation."
      ],
      "metadata": {
        "id": "OICxdtTtSIPF"
      },
      "id": "OICxdtTtSIPF"
    },
    {
      "cell_type": "code",
      "execution_count": 74,
      "id": "09b08983-0407-446e-b681-7b48f327f8eb",
      "metadata": {
        "id": "09b08983-0407-446e-b681-7b48f327f8eb"
      },
      "outputs": [],
      "source": [
        "id2word = corpora.Dictionary(df[\"preprocessed_TWEETS\"])\n",
        "id2word.filter_extremes(no_below=2, no_above=.99)\n",
        "corpus = [id2word.doc2bow(d) for d in df[\"preprocessed_TWEETS\"]]"
      ]
    },
    {
      "cell_type": "markdown",
      "source": [
        "The code defines a function named LDA that takes in several parameters, including num_topics, workers, passes, num_of_words, id2word_dict, and corpus. The function then creates an LDA (Latent Dirichlet Allocation) model using the ldamulticore.LdaMulticore() function from the Gensim library. The LDA model is trained on the input corpus and the id2word_dict dictionary, with num_topics, workers, and passes as the number of topics to be inferred, the number of parallel workers to be used for training, and the number of times the corpus is passed through the LDA model. Finally, the function returns the LDA model and the top 10 words for each topic obtained using the print_topics() method."
      ],
      "metadata": {
        "id": "js4IhSokSRg7"
      },
      "id": "js4IhSokSRg7"
    },
    {
      "cell_type": "code",
      "execution_count": 75,
      "id": "e5acc1e7-e05d-4562-8ea9-2cabb4ff3d7f",
      "metadata": {
        "id": "e5acc1e7-e05d-4562-8ea9-2cabb4ff3d7f"
      },
      "outputs": [],
      "source": [
        "# LDA model analysis\n",
        "def LDA(num_topics, workers,passes, num_of_words, id2word_dict, corpus):\n",
        "    np.random.seed(42)\n",
        "    lda = models.ldamulticore.LdaMulticore(corpus=corpus, num_topics=num_topics, id2word=id2word_dict,workers=workers, passes = passes)\n",
        "    return lda,lda.print_topics(num_words=10)"
      ]
    },
    {
      "cell_type": "markdown",
      "source": [
        "The code below trains an LDA model using the specified parameters, prints the top 10 words for each topic, and calculates the coherence score of the model using the preprocessed tweets and the dictionary created using id2word."
      ],
      "metadata": {
        "id": "F97pjoHnSh8W"
      },
      "id": "F97pjoHnSh8W"
    },
    {
      "cell_type": "code",
      "execution_count": 76,
      "id": "0e0f568e-7dc9-4607-997e-4166c84f1e1c",
      "metadata": {
        "colab": {
          "base_uri": "https://localhost:8080/"
        },
        "id": "0e0f568e-7dc9-4607-997e-4166c84f1e1c",
        "outputId": "55f8180d-5977-4454-e492-c6d25ad0ca99"
      },
      "outputs": [
        {
          "output_type": "stream",
          "name": "stdout",
          "text": [
            "Topic 0: 0.021*\"layoffs\" + 0.019*\"employees\" + 0.016*\"vacancies\" + 0.013*\"twitter\" + 0.009*\"tech\" + 0.008*\"india\" + 0.008*\"jobs\" + 0.007*\"workers\" + 0.007*\"robot\" + 0.007*\"ibm\"\n",
            "Topic 1: 0.015*\"twitter\" + 0.013*\"people\" + 0.008*\"like\" + 0.007*\"get\" + 0.007*\"work\" + 0.006*\"one\" + 0.006*\"time\" + 0.006*\"know\" + 0.005*\"employees\" + 0.005*\"laid\"\n",
            "Topic 2: 0.019*\"job\" + 0.015*\"unemployment\" + 0.014*\"rate\" + 0.009*\"help\" + 0.008*\"jobs\" + 0.008*\"get\" + 0.008*\"career\" + 0.008*\"us\" + 0.008*\"2023\" + 0.008*\"new\"\n",
            "Topic 3: 0.053*\"apply\" + 0.046*\"job\" + 0.045*\"resume\" + 0.044*\"post\" + 0.043*\"online\" + 0.041*\"rocket\" + 0.040*\"star\" + 0.027*\"pakistan\" + 0.011*\"states\" + 0.011*\"united\"\n",
            "Topic 4: 0.048*\"apply\" + 0.041*\"click\" + 0.028*\"hiring\" + 0.027*\"job\" + 0.023*\"link\" + 0.015*\"location\" + 0.011*\"jobs\" + 0.010*\"lagos\" + 0.009*\"visit\" + 0.009*\"manager\"\n",
            "\n",
            "\n",
            "\n",
            "Coherence Score: 0.4590255155613033\n"
          ]
        }
      ],
      "source": [
        "lda,topics = LDA(5,7,20,10,id2word,corpus) \n",
        "# Parameters : dataframe column, number of topics, workers for parallelization, passes (epochs ), filter_extremes, number of words per topic \n",
        "\n",
        "for topic_id, topic in topics:\n",
        "    print('Topic {}: {}'.format(topic_id, topic))\n",
        "print (\"\\n\\n\")\n",
        "\n",
        "# Caluculate coherance score\n",
        "coherence_model_lda = CoherenceModel(model=lda, texts=df[\"preprocessed_TWEETS\"], dictionary=id2word, coherence='c_v')\n",
        "print('Coherence Score:', coherence_model_lda.get_coherence())"
      ]
    },
    {
      "cell_type": "markdown",
      "source": [
        "The following code defines a function HDP which takes a dataframe column, number of topics, and number of words as input parameters. The function then vectorizes the data using CountVectorizer, creates a gensim dictionary object and converts the document-term matrix into a gensim corpus object. Finally, it trains a Hierarchical Dirichlet Process (HDP) topic model using the corpus and dictionary objects, and returns the trained model, topics, and corpus."
      ],
      "metadata": {
        "id": "liwvz0LWSv1r"
      },
      "id": "liwvz0LWSv1r"
    },
    {
      "cell_type": "code",
      "execution_count": 77,
      "id": "e42f1ef8-7c6f-48e7-be84-3dc9e8f07466",
      "metadata": {
        "id": "e42f1ef8-7c6f-48e7-be84-3dc9e8f07466"
      },
      "outputs": [],
      "source": [
        "from gensim.models import HdpModel\n",
        "from gensim.corpora import Dictionary\n",
        "from sklearn.feature_extraction.text import CountVectorizer\n",
        "\n",
        "def HDP(df_column,num_topics,num_words):\n",
        "    # Create a CountVectorizer object\n",
        "    vectorizer = CountVectorizer(max_df=0.95, min_df=2, stop_words='english')\n",
        "\n",
        "    # Vectorize the data\n",
        "    X = vectorizer.fit_transform([' '.join(tokens) for tokens in df_column])\n",
        "\n",
        "    # Create a Gensim Dictionary object\n",
        "    gensim_dict = Dictionary([vectorizer.get_feature_names_out()])\n",
        "\n",
        "    # Convert the document-term matrix into a Gensim Corpus object\n",
        "    corpus = gensim.matutils.Sparse2Corpus(X, documents_columns=False)\n",
        "\n",
        "    # Train the HDP model\n",
        "    hdp = HdpModel(corpus=corpus, id2word=gensim_dict)\n",
        "    \n",
        "    return hdp, hdp.print_topics(num_topics=num_topics, num_words=num_words),corpus"
      ]
    },
    {
      "cell_type": "markdown",
      "source": [
        "The code performs topic modeling using Hierarchical Dirichlet Process (HDP) algorithm. It defines a function HDP that takes a dataframe column, number of topics and number of words to be displayed per topic as input, and returns the trained HDP model, the topics and the corpus. The code then calls the HDP function, prints the topics and calculates the coherence score using the CoherenceModel function. Finally, it prints the coherence score."
      ],
      "metadata": {
        "id": "s2Ld7wU3S4R7"
      },
      "id": "s2Ld7wU3S4R7"
    },
    {
      "cell_type": "code",
      "execution_count": 78,
      "id": "89829aa1-5a1c-43dd-b258-2c245f1b2547",
      "metadata": {
        "colab": {
          "base_uri": "https://localhost:8080/"
        },
        "id": "89829aa1-5a1c-43dd-b258-2c245f1b2547",
        "outputId": "7d062e8f-2344-4d92-afd1-13f66f00e8dc"
      },
      "outputs": [
        {
          "output_type": "stream",
          "name": "stdout",
          "text": [
            "(0, '0.017*job + 0.011*apply + 0.010*twitter + 0.007*jobs + 0.007*employees + 0.007*post + 0.006*resume + 0.006*people + 0.006*online + 0.006*rocket')\n",
            "(1, '0.009*apply + 0.007*click + 0.006*job + 0.004*location + 0.004*jobs + 0.003*hiring + 0.003*twitter + 0.003*lagos + 0.002*new + 0.002*people')\n",
            "(2, '0.005*helen + 0.005*contact + 0.005*bchs + 0.005*salt + 0.005*pr + 0.004*hybrid + 0.004*job + 0.003*b2b + 0.003*twitter + 0.003*clients')\n",
            "(3, '0.005*job + 0.004*twitter + 0.004*apply + 0.002*click + 0.002*people + 0.002*employees + 0.002*help + 0.002*like + 0.002*jobs + 0.002*new')\n",
            "(4, '0.004*job + 0.004*twitter + 0.003*apply + 0.003*people + 0.002*employees + 0.002*jobs + 0.002*click + 0.002*hiring + 0.002*elon + 0.001*new')\n",
            "\n",
            "\n",
            "\n",
            "Coherence Score: 0.6464872428910231\n"
          ]
        }
      ],
      "source": [
        "hdp,topics,corpus = HDP(df[\"preprocessed_TWEETS\"],5,10)\n",
        "\n",
        "for topic in topics:\n",
        "    print(topic)\n",
        "\n",
        "# Caluculate coherance score\n",
        "coherence_model_hdp = CoherenceModel(model=hdp, texts=df[\"preprocessed_TWEETS\"], dictionary=id2word, coherence='c_v')\n",
        "print (\"\\n\\n\")\n",
        "print('Coherence Score:', coherence_model_hdp.get_coherence())"
      ]
    },
    {
      "cell_type": "markdown",
      "source": [
        "The code defines a function NMF_ that takes a dataframe column and a number of components as input. It creates a CountVectorizer, fits and transforms the documents, and creates an NMF model with the specified number of components. Finally, it fits the model to the count matrix and returns the model and vectorizer objects."
      ],
      "metadata": {
        "id": "-xMNq7R6TD8M"
      },
      "id": "-xMNq7R6TD8M"
    },
    {
      "cell_type": "code",
      "execution_count": 79,
      "id": "48a2a5f5-a5de-4241-af6f-1d958f2d2027",
      "metadata": {
        "id": "48a2a5f5-a5de-4241-af6f-1d958f2d2027"
      },
      "outputs": [],
      "source": [
        "# NMF analysis \n",
        "from sklearn.feature_extraction.text import TfidfVectorizer,TfidfTransformer;\n",
        "from sklearn.decomposition import NMF\n",
        "from sklearn.model_selection import GridSearchCV\n",
        "from sklearn.preprocessing import normalize\n",
        "\n",
        "def NMF_(df_column, components):\n",
        "    # Create a count vectorizer\n",
        "    vectorizer = CountVectorizer()\n",
        "    # Fit and transform the documents\n",
        "    X = vectorizer.fit_transform([' '.join(tokens) for tokens in df_column])\n",
        "    # Create an NMF model\n",
        "    model = NMF(n_components=5)\n",
        "    # Fit the model to the count matrix\n",
        "    W = model.fit_transform(X)\n",
        "\n",
        "    return model, vectorizer"
      ]
    },
    {
      "cell_type": "markdown",
      "source": [
        "The code defines a function NMF_ that takes a dataframe column and the number of components as input. It creates a count vectorizer, fits and transforms the documents, creates an NMF model, and fits the model to the count matrix.\n",
        "\n",
        "Then, the code uses the NMF model and the vectorizer to print the top terms for each topic, and also calculates the coherence score using the top words for each topic, the preprocessed tweets and the dictionary. The coherence score is printed at the end."
      ],
      "metadata": {
        "id": "2-QFTBBmTJEF"
      },
      "id": "2-QFTBBmTJEF"
    },
    {
      "cell_type": "code",
      "execution_count": 80,
      "id": "2543917d-d392-446d-8423-d93c1b87abc7",
      "metadata": {
        "colab": {
          "base_uri": "https://localhost:8080/"
        },
        "id": "2543917d-d392-446d-8423-d93c1b87abc7",
        "outputId": "0040b655-3a41-4914-9bdf-ce6b78b022d9"
      },
      "outputs": [
        {
          "output_type": "stream",
          "name": "stdout",
          "text": [
            "Topic #0:\n",
            "post resume online apply rocket star pakistan lahore karachi islamabad\n",
            "Topic #1:\n",
            "twitter employees elon musk layoffs fired laid company like staff\n",
            "Topic #2:\n",
            "apply click hiring link location lagos vacancies jobs visit manager\n",
            "Topic #3:\n",
            "job link vacancies search find details help get looking experience\n",
            "Topic #4:\n",
            "people jobs unemployment rate get us new work like time\n",
            "\n",
            "\n",
            "\n",
            "0.07306254360062212\n"
          ]
        }
      ],
      "source": [
        "nmf, vectorizer=  NMF_(df[\"preprocessed_TWEETS\"],10)\n",
        "# Print the top terms for each topic\n",
        "n_top_words = 10\n",
        "feature_names = vectorizer.get_feature_names_out()\n",
        "# get the top words for each topic\n",
        "top_words_per_topic = []\n",
        "# create a dictionary mapping each term to a unique integer ID\n",
        "dictionary = corpora.Dictionary(df[\"preprocessed_TWEETS\"])\n",
        "for topic_idx, topic in enumerate(nmf.components_):\n",
        "    print(\"Topic #%d:\" % topic_idx)\n",
        "    print(\" \".join([feature_names[i] for i in topic.argsort()[:-n_top_words - 1:-1]]))\n",
        "    top_words = [dictionary[i] for i in nmf.components_[topic_idx].argsort()[:-5 - 1:-1]]\n",
        "    top_words_per_topic.append(top_words)\n",
        "\n",
        "print (\"\\n\\n\")\n",
        "\n",
        "# create a coherence model\n",
        "coherence_model_nmf = gensim.models.CoherenceModel(topics=top_words_per_topic, texts=df[\"preprocessed_TWEETS\"], dictionary=dictionary, coherence='c_v')\n",
        "\n",
        "# calculate the coherence score\n",
        "print(coherence_model_nmf.get_coherence())"
      ]
    },
    {
      "cell_type": "markdown",
      "source": [
        "The below code defines a function evaluate_bar_graph that takes a list of coherence values and a list of corresponding model names and plots a bar graph of the coherence values for each model. Then it calculates the coherence values for three topic modeling models - NMF, LDA, and HDP - using previously defined coherence models, and calls evaluate_bar_graph with these values and model names to plot the coherence values for comparison."
      ],
      "metadata": {
        "id": "BGAvkDszTeKN"
      },
      "id": "BGAvkDszTeKN"
    },
    {
      "cell_type": "code",
      "source": [
        "import matplotlib.pyplot as plt\n",
        "\n",
        "def evaluate_bar_graph(coherences, indices):\n",
        "    assert len(coherences) == len(indices)\n",
        "    n = len(coherences)\n",
        "    x = np.arange(n)\n",
        "    plt.figure(figsize=(12,12))\n",
        "    plt.bar(x, coherences, width=0.2, tick_label=indices, align='center')\n",
        "    plt.xlabel('Models')\n",
        "    plt.ylabel('Coherence Value')\n",
        "\n",
        "coherence_nmf = coherence_model_nmf.get_coherence()\n",
        "coherence_lda = coherence_model_lda.get_coherence()\n",
        "coherence_hdp = coherence_model_hdp.get_coherence()\n",
        "evaluate_bar_graph([coherence_nmf, coherence_lda, coherence_hdp], ['NMF', 'LDA', 'HDP'])"
      ],
      "metadata": {
        "colab": {
          "base_uri": "https://localhost:8080/",
          "height": 1000
        },
        "id": "m3W3ULp2BUiF",
        "outputId": "4db7d382-495c-4600-f46d-a3fbe1051e39"
      },
      "id": "m3W3ULp2BUiF",
      "execution_count": 81,
      "outputs": [
        {
          "output_type": "display_data",
          "data": {
            "text/plain": [
              "<Figure size 1200x1200 with 1 Axes>"
            ],
            "image/png": "[encoded data removed]"
          },
          "metadata": {}
        }
      ]
    }
  ],
  "metadata": {
    "kernelspec": {
      "display_name": "Python 3 (ipykernel)",
      "language": "python",
      "name": "python3"
    },
    "language_info": {
      "codemirror_mode": {
        "name": "ipython",
        "version": 3
      },
      "file_extension": ".py",
      "mimetype": "text/x-python",
      "name": "python",
      "nbconvert_exporter": "python",
      "pygments_lexer": "ipython3",
      "version": "3.9.7"
    },
    "colab": {
      "provenance": []
    }
  },
  "nbformat": 4,
  "nbformat_minor": 5
}